{
 "cells": [
  {
   "cell_type": "markdown",
   "metadata": {},
   "source": [
    "### Import libraries\n"
   ]
  },
  {
   "cell_type": "markdown",
   "metadata": {},
   "source": [
    "let's start importing the libraries:"
   ]
  },
  {
   "cell_type": "code",
   "execution_count": 32,
   "metadata": {},
   "outputs": [],
   "source": [
    "import pandas as pd\n",
    "import numpy as np\n",
    "import matplotlib.pyplot as plt\n",
    "from datetime import datetime"
   ]
  },
  {
   "cell_type": "markdown",
   "metadata": {},
   "source": [
    "### Import DataFrame"
   ]
  },
  {
   "cell_type": "markdown",
   "metadata": {},
   "source": [
    "and the database:"
   ]
  },
  {
   "cell_type": "code",
   "execution_count": 2,
   "metadata": {},
   "outputs": [],
   "source": [
    "df=pd.read_csv(r\"vgchartz-2024.csv.\")"
   ]
  },
  {
   "cell_type": "markdown",
   "metadata": {},
   "source": [
    "### Preliminary Analysis"
   ]
  },
  {
   "cell_type": "markdown",
   "metadata": {},
   "source": [
    "preliminar look at the database, top rows:"
   ]
  },
  {
   "cell_type": "code",
   "execution_count": 12,
   "metadata": {},
   "outputs": [
    {
     "data": {
      "text/html": [
       "<div>\n",
       "<style scoped>\n",
       "    .dataframe tbody tr th:only-of-type {\n",
       "        vertical-align: middle;\n",
       "    }\n",
       "\n",
       "    .dataframe tbody tr th {\n",
       "        vertical-align: top;\n",
       "    }\n",
       "\n",
       "    .dataframe thead th {\n",
       "        text-align: right;\n",
       "    }\n",
       "</style>\n",
       "<table border=\"1\" class=\"dataframe\">\n",
       "  <thead>\n",
       "    <tr style=\"text-align: right;\">\n",
       "      <th></th>\n",
       "      <th>img</th>\n",
       "      <th>title</th>\n",
       "      <th>console</th>\n",
       "      <th>genre</th>\n",
       "      <th>publisher</th>\n",
       "      <th>developer</th>\n",
       "      <th>critic_score</th>\n",
       "      <th>total_sales</th>\n",
       "      <th>na_sales</th>\n",
       "      <th>jp_sales</th>\n",
       "      <th>pal_sales</th>\n",
       "      <th>other_sales</th>\n",
       "      <th>release_date</th>\n",
       "      <th>last_update</th>\n",
       "    </tr>\n",
       "  </thead>\n",
       "  <tbody>\n",
       "    <tr>\n",
       "      <th>0</th>\n",
       "      <td>/games/boxart/full_6510540AmericaFrontccc.jpg</td>\n",
       "      <td>Grand Theft Auto V</td>\n",
       "      <td>PS3</td>\n",
       "      <td>Action</td>\n",
       "      <td>Rockstar Games</td>\n",
       "      <td>Rockstar North</td>\n",
       "      <td>9.4</td>\n",
       "      <td>20.32</td>\n",
       "      <td>6.37</td>\n",
       "      <td>0.99</td>\n",
       "      <td>9.85</td>\n",
       "      <td>3.12</td>\n",
       "      <td>2013-09-17</td>\n",
       "      <td>NaN</td>\n",
       "    </tr>\n",
       "    <tr>\n",
       "      <th>1</th>\n",
       "      <td>/games/boxart/full_5563178AmericaFrontccc.jpg</td>\n",
       "      <td>Grand Theft Auto V</td>\n",
       "      <td>PS4</td>\n",
       "      <td>Action</td>\n",
       "      <td>Rockstar Games</td>\n",
       "      <td>Rockstar North</td>\n",
       "      <td>9.7</td>\n",
       "      <td>19.39</td>\n",
       "      <td>6.06</td>\n",
       "      <td>0.60</td>\n",
       "      <td>9.71</td>\n",
       "      <td>3.02</td>\n",
       "      <td>2014-11-18</td>\n",
       "      <td>2018-01-03</td>\n",
       "    </tr>\n",
       "    <tr>\n",
       "      <th>2</th>\n",
       "      <td>/games/boxart/827563ccc.jpg</td>\n",
       "      <td>Grand Theft Auto: Vice City</td>\n",
       "      <td>PS2</td>\n",
       "      <td>Action</td>\n",
       "      <td>Rockstar Games</td>\n",
       "      <td>Rockstar North</td>\n",
       "      <td>9.6</td>\n",
       "      <td>16.15</td>\n",
       "      <td>8.41</td>\n",
       "      <td>0.47</td>\n",
       "      <td>5.49</td>\n",
       "      <td>1.78</td>\n",
       "      <td>2002-10-28</td>\n",
       "      <td>NaN</td>\n",
       "    </tr>\n",
       "    <tr>\n",
       "      <th>3</th>\n",
       "      <td>/games/boxart/full_9218923AmericaFrontccc.jpg</td>\n",
       "      <td>Grand Theft Auto V</td>\n",
       "      <td>X360</td>\n",
       "      <td>Action</td>\n",
       "      <td>Rockstar Games</td>\n",
       "      <td>Rockstar North</td>\n",
       "      <td>NaN</td>\n",
       "      <td>15.86</td>\n",
       "      <td>9.06</td>\n",
       "      <td>0.06</td>\n",
       "      <td>5.33</td>\n",
       "      <td>1.42</td>\n",
       "      <td>2013-09-17</td>\n",
       "      <td>NaN</td>\n",
       "    </tr>\n",
       "    <tr>\n",
       "      <th>4</th>\n",
       "      <td>/games/boxart/full_4990510AmericaFrontccc.jpg</td>\n",
       "      <td>Call of Duty: Black Ops 3</td>\n",
       "      <td>PS4</td>\n",
       "      <td>Shooter</td>\n",
       "      <td>Activision</td>\n",
       "      <td>Treyarch</td>\n",
       "      <td>8.1</td>\n",
       "      <td>15.09</td>\n",
       "      <td>6.18</td>\n",
       "      <td>0.41</td>\n",
       "      <td>6.05</td>\n",
       "      <td>2.44</td>\n",
       "      <td>2015-11-06</td>\n",
       "      <td>2018-01-14</td>\n",
       "    </tr>\n",
       "  </tbody>\n",
       "</table>\n",
       "</div>"
      ],
      "text/plain": [
       "                                             img                        title  \\\n",
       "0  /games/boxart/full_6510540AmericaFrontccc.jpg           Grand Theft Auto V   \n",
       "1  /games/boxart/full_5563178AmericaFrontccc.jpg           Grand Theft Auto V   \n",
       "2                    /games/boxart/827563ccc.jpg  Grand Theft Auto: Vice City   \n",
       "3  /games/boxart/full_9218923AmericaFrontccc.jpg           Grand Theft Auto V   \n",
       "4  /games/boxart/full_4990510AmericaFrontccc.jpg    Call of Duty: Black Ops 3   \n",
       "\n",
       "  console    genre       publisher       developer  critic_score  total_sales  \\\n",
       "0     PS3   Action  Rockstar Games  Rockstar North           9.4        20.32   \n",
       "1     PS4   Action  Rockstar Games  Rockstar North           9.7        19.39   \n",
       "2     PS2   Action  Rockstar Games  Rockstar North           9.6        16.15   \n",
       "3    X360   Action  Rockstar Games  Rockstar North           NaN        15.86   \n",
       "4     PS4  Shooter      Activision        Treyarch           8.1        15.09   \n",
       "\n",
       "   na_sales  jp_sales  pal_sales  other_sales release_date last_update  \n",
       "0      6.37      0.99       9.85         3.12   2013-09-17         NaN  \n",
       "1      6.06      0.60       9.71         3.02   2014-11-18  2018-01-03  \n",
       "2      8.41      0.47       5.49         1.78   2002-10-28         NaN  \n",
       "3      9.06      0.06       5.33         1.42   2013-09-17         NaN  \n",
       "4      6.18      0.41       6.05         2.44   2015-11-06  2018-01-14  "
      ]
     },
     "execution_count": 12,
     "metadata": {},
     "output_type": "execute_result"
    }
   ],
   "source": [
    "df.head()"
   ]
  },
  {
   "cell_type": "markdown",
   "metadata": {},
   "source": [
    "object type of each column, we have objects and floats:"
   ]
  },
  {
   "cell_type": "code",
   "execution_count": 56,
   "metadata": {},
   "outputs": [
    {
     "name": "stdout",
     "output_type": "stream",
     "text": [
      "<class 'pandas.core.frame.DataFrame'>\n",
      "RangeIndex: 64016 entries, 0 to 64015\n",
      "Data columns (total 14 columns):\n",
      " #   Column        Non-Null Count  Dtype  \n",
      "---  ------        --------------  -----  \n",
      " 0   img           64016 non-null  object \n",
      " 1   title         64016 non-null  object \n",
      " 2   console       64016 non-null  object \n",
      " 3   genre         64016 non-null  object \n",
      " 4   publisher     64016 non-null  object \n",
      " 5   developer     63999 non-null  object \n",
      " 6   critic_score  6678 non-null   float64\n",
      " 7   total_sales   18922 non-null  float64\n",
      " 8   na_sales      12637 non-null  float64\n",
      " 9   jp_sales      6726 non-null   float64\n",
      " 10  pal_sales     12824 non-null  float64\n",
      " 11  other_sales   15128 non-null  float64\n",
      " 12  release_date  56965 non-null  object \n",
      " 13  last_update   17879 non-null  object \n",
      "dtypes: float64(6), object(8)\n",
      "memory usage: 6.8+ MB\n"
     ]
    }
   ],
   "source": [
    "df.info()"
   ]
  },
  {
   "cell_type": "code",
   "execution_count": 14,
   "metadata": {},
   "outputs": [
    {
     "data": {
      "text/plain": [
       "(64016, 14)"
      ]
     },
     "execution_count": 14,
     "metadata": {},
     "output_type": "execute_result"
    }
   ],
   "source": [
    "df.shape"
   ]
  },
  {
   "cell_type": "markdown",
   "metadata": {},
   "source": [
    "we have a total of 64.016 rows and 14 columns"
   ]
  },
  {
   "cell_type": "markdown",
   "metadata": {},
   "source": [
    "let's extract the list of columns:"
   ]
  },
  {
   "cell_type": "code",
   "execution_count": 16,
   "metadata": {},
   "outputs": [
    {
     "data": {
      "text/plain": [
       "Index(['img', 'title', 'console', 'genre', 'publisher', 'developer',\n",
       "       'critic_score', 'total_sales', 'na_sales', 'jp_sales', 'pal_sales',\n",
       "       'other_sales', 'release_date', 'last_update'],\n",
       "      dtype='object')"
      ]
     },
     "execution_count": 16,
     "metadata": {},
     "output_type": "execute_result"
    }
   ],
   "source": [
    "df.columns"
   ]
  },
  {
   "cell_type": "markdown",
   "metadata": {},
   "source": [
    "general statistics of each float variable  in the database:"
   ]
  },
  {
   "cell_type": "code",
   "execution_count": 15,
   "metadata": {},
   "outputs": [
    {
     "data": {
      "text/html": [
       "<div>\n",
       "<style scoped>\n",
       "    .dataframe tbody tr th:only-of-type {\n",
       "        vertical-align: middle;\n",
       "    }\n",
       "\n",
       "    .dataframe tbody tr th {\n",
       "        vertical-align: top;\n",
       "    }\n",
       "\n",
       "    .dataframe thead th {\n",
       "        text-align: right;\n",
       "    }\n",
       "</style>\n",
       "<table border=\"1\" class=\"dataframe\">\n",
       "  <thead>\n",
       "    <tr style=\"text-align: right;\">\n",
       "      <th></th>\n",
       "      <th>critic_score</th>\n",
       "      <th>total_sales</th>\n",
       "      <th>na_sales</th>\n",
       "      <th>jp_sales</th>\n",
       "      <th>pal_sales</th>\n",
       "      <th>other_sales</th>\n",
       "    </tr>\n",
       "  </thead>\n",
       "  <tbody>\n",
       "    <tr>\n",
       "      <th>count</th>\n",
       "      <td>6678.000000</td>\n",
       "      <td>18922.000000</td>\n",
       "      <td>12637.000000</td>\n",
       "      <td>6726.000000</td>\n",
       "      <td>12824.000000</td>\n",
       "      <td>15128.000000</td>\n",
       "    </tr>\n",
       "    <tr>\n",
       "      <th>mean</th>\n",
       "      <td>7.220440</td>\n",
       "      <td>0.349113</td>\n",
       "      <td>0.264740</td>\n",
       "      <td>0.102281</td>\n",
       "      <td>0.149472</td>\n",
       "      <td>0.043041</td>\n",
       "    </tr>\n",
       "    <tr>\n",
       "      <th>std</th>\n",
       "      <td>1.457066</td>\n",
       "      <td>0.807462</td>\n",
       "      <td>0.494787</td>\n",
       "      <td>0.168811</td>\n",
       "      <td>0.392653</td>\n",
       "      <td>0.126643</td>\n",
       "    </tr>\n",
       "    <tr>\n",
       "      <th>min</th>\n",
       "      <td>1.000000</td>\n",
       "      <td>0.000000</td>\n",
       "      <td>0.000000</td>\n",
       "      <td>0.000000</td>\n",
       "      <td>0.000000</td>\n",
       "      <td>0.000000</td>\n",
       "    </tr>\n",
       "    <tr>\n",
       "      <th>25%</th>\n",
       "      <td>6.400000</td>\n",
       "      <td>0.030000</td>\n",
       "      <td>0.050000</td>\n",
       "      <td>0.020000</td>\n",
       "      <td>0.010000</td>\n",
       "      <td>0.000000</td>\n",
       "    </tr>\n",
       "    <tr>\n",
       "      <th>50%</th>\n",
       "      <td>7.500000</td>\n",
       "      <td>0.120000</td>\n",
       "      <td>0.120000</td>\n",
       "      <td>0.040000</td>\n",
       "      <td>0.040000</td>\n",
       "      <td>0.010000</td>\n",
       "    </tr>\n",
       "    <tr>\n",
       "      <th>75%</th>\n",
       "      <td>8.300000</td>\n",
       "      <td>0.340000</td>\n",
       "      <td>0.280000</td>\n",
       "      <td>0.120000</td>\n",
       "      <td>0.140000</td>\n",
       "      <td>0.030000</td>\n",
       "    </tr>\n",
       "    <tr>\n",
       "      <th>max</th>\n",
       "      <td>10.000000</td>\n",
       "      <td>20.320000</td>\n",
       "      <td>9.760000</td>\n",
       "      <td>2.130000</td>\n",
       "      <td>9.850000</td>\n",
       "      <td>3.120000</td>\n",
       "    </tr>\n",
       "  </tbody>\n",
       "</table>\n",
       "</div>"
      ],
      "text/plain": [
       "       critic_score   total_sales      na_sales     jp_sales     pal_sales  \\\n",
       "count   6678.000000  18922.000000  12637.000000  6726.000000  12824.000000   \n",
       "mean       7.220440      0.349113      0.264740     0.102281      0.149472   \n",
       "std        1.457066      0.807462      0.494787     0.168811      0.392653   \n",
       "min        1.000000      0.000000      0.000000     0.000000      0.000000   \n",
       "25%        6.400000      0.030000      0.050000     0.020000      0.010000   \n",
       "50%        7.500000      0.120000      0.120000     0.040000      0.040000   \n",
       "75%        8.300000      0.340000      0.280000     0.120000      0.140000   \n",
       "max       10.000000     20.320000      9.760000     2.130000      9.850000   \n",
       "\n",
       "        other_sales  \n",
       "count  15128.000000  \n",
       "mean       0.043041  \n",
       "std        0.126643  \n",
       "min        0.000000  \n",
       "25%        0.000000  \n",
       "50%        0.010000  \n",
       "75%        0.030000  \n",
       "max        3.120000  "
      ]
     },
     "execution_count": 15,
     "metadata": {},
     "output_type": "execute_result"
    }
   ],
   "source": [
    "df.describe()"
   ]
  },
  {
   "cell_type": "markdown",
   "metadata": {},
   "source": [
    "analysis of Nan values across the database:"
   ]
  },
  {
   "cell_type": "markdown",
   "metadata": {},
   "source": [
    "presence of Nan in each column"
   ]
  },
  {
   "cell_type": "code",
   "execution_count": 80,
   "metadata": {},
   "outputs": [
    {
     "data": {
      "text/plain": [
       "img             False\n",
       "title           False\n",
       "console         False\n",
       "genre           False\n",
       "publisher       False\n",
       "developer        True\n",
       "critic_score     True\n",
       "total_sales      True\n",
       "na_sales         True\n",
       "jp_sales         True\n",
       "pal_sales        True\n",
       "other_sales      True\n",
       "release_date     True\n",
       "last_update      True\n",
       "dtype: bool"
      ]
     },
     "execution_count": 80,
     "metadata": {},
     "output_type": "execute_result"
    }
   ],
   "source": [
    "df.isna().any()"
   ]
  },
  {
   "cell_type": "markdown",
   "metadata": {},
   "source": [
    "graphical representation of total number of Nan values for each column:"
   ]
  },
  {
   "cell_type": "code",
   "execution_count": 70,
   "metadata": {},
   "outputs": [
    {
     "data": {
      "image/png": "[encoded data removed]",
      "text/plain": [
       "<Figure size 640x480 with 1 Axes>"
      ]
     },
     "metadata": {},
     "output_type": "display_data"
    }
   ],
   "source": [
    "df.isna().sum().plot(kind=\"bar\")\n",
    "plt.xlabel(\"column\")\n",
    "plt.ylabel(\"Nan values\")\n",
    "plt.grid()\n",
    "plt.show()\n",
    "plt.show()"
   ]
  },
  {
   "cell_type": "markdown",
   "metadata": {},
   "source": [
    "### Step 1: Transforming DataFrame"
   ]
  },
  {
   "cell_type": "markdown",
   "metadata": {},
   "source": [
    "#### Example of filtering, sorting and grouping"
   ]
  },
  {
   "cell_type": "markdown",
   "metadata": {},
   "source": [
    "extract title, console type and critic score, sorting by critic score"
   ]
  },
  {
   "cell_type": "code",
   "execution_count": 3,
   "metadata": {},
   "outputs": [
    {
     "data": {
      "text/html": [
       "<div>\n",
       "<style scoped>\n",
       "    .dataframe tbody tr th:only-of-type {\n",
       "        vertical-align: middle;\n",
       "    }\n",
       "\n",
       "    .dataframe tbody tr th {\n",
       "        vertical-align: top;\n",
       "    }\n",
       "\n",
       "    .dataframe thead th {\n",
       "        text-align: right;\n",
       "    }\n",
       "</style>\n",
       "<table border=\"1\" class=\"dataframe\">\n",
       "  <thead>\n",
       "    <tr style=\"text-align: right;\">\n",
       "      <th></th>\n",
       "      <th>title</th>\n",
       "      <th>console</th>\n",
       "      <th>critic_score</th>\n",
       "    </tr>\n",
       "  </thead>\n",
       "  <tbody>\n",
       "    <tr>\n",
       "      <th>7</th>\n",
       "      <td>Red Dead Redemption 2</td>\n",
       "      <td>PS4</td>\n",
       "      <td>9.8</td>\n",
       "    </tr>\n",
       "    <tr>\n",
       "      <th>1</th>\n",
       "      <td>Grand Theft Auto V</td>\n",
       "      <td>PS4</td>\n",
       "      <td>9.7</td>\n",
       "    </tr>\n",
       "    <tr>\n",
       "      <th>2</th>\n",
       "      <td>Grand Theft Auto: Vice City</td>\n",
       "      <td>PS2</td>\n",
       "      <td>9.6</td>\n",
       "    </tr>\n",
       "    <tr>\n",
       "      <th>0</th>\n",
       "      <td>Grand Theft Auto V</td>\n",
       "      <td>PS3</td>\n",
       "      <td>9.4</td>\n",
       "    </tr>\n",
       "    <tr>\n",
       "      <th>6</th>\n",
       "      <td>Call of Duty: Black Ops</td>\n",
       "      <td>X360</td>\n",
       "      <td>8.8</td>\n",
       "    </tr>\n",
       "    <tr>\n",
       "      <th>5</th>\n",
       "      <td>Call of Duty: Modern Warfare 3</td>\n",
       "      <td>X360</td>\n",
       "      <td>8.7</td>\n",
       "    </tr>\n",
       "    <tr>\n",
       "      <th>8</th>\n",
       "      <td>Call of Duty: Black Ops II</td>\n",
       "      <td>X360</td>\n",
       "      <td>8.4</td>\n",
       "    </tr>\n",
       "    <tr>\n",
       "      <th>4</th>\n",
       "      <td>Call of Duty: Black Ops 3</td>\n",
       "      <td>PS4</td>\n",
       "      <td>8.1</td>\n",
       "    </tr>\n",
       "    <tr>\n",
       "      <th>9</th>\n",
       "      <td>Call of Duty: Black Ops II</td>\n",
       "      <td>PS3</td>\n",
       "      <td>8.0</td>\n",
       "    </tr>\n",
       "    <tr>\n",
       "      <th>3</th>\n",
       "      <td>Grand Theft Auto V</td>\n",
       "      <td>X360</td>\n",
       "      <td>NaN</td>\n",
       "    </tr>\n",
       "  </tbody>\n",
       "</table>\n",
       "</div>"
      ],
      "text/plain": [
       "                            title console  critic_score\n",
       "7           Red Dead Redemption 2     PS4           9.8\n",
       "1              Grand Theft Auto V     PS4           9.7\n",
       "2     Grand Theft Auto: Vice City     PS2           9.6\n",
       "0              Grand Theft Auto V     PS3           9.4\n",
       "6         Call of Duty: Black Ops    X360           8.8\n",
       "5  Call of Duty: Modern Warfare 3    X360           8.7\n",
       "8      Call of Duty: Black Ops II    X360           8.4\n",
       "4       Call of Duty: Black Ops 3     PS4           8.1\n",
       "9      Call of Duty: Black Ops II     PS3           8.0\n",
       "3              Grand Theft Auto V    X360           NaN"
      ]
     },
     "execution_count": 3,
     "metadata": {},
     "output_type": "execute_result"
    }
   ],
   "source": [
    "df.loc[0:9,[\"title\",\"console\",\"critic_score\"]].sort_values(\"critic_score\",ascending=False)"
   ]
  },
  {
   "cell_type": "markdown",
   "metadata": {},
   "source": [
    "show top 5 rows with critic_score>9 and console=PS2, sort by total_sales and critic_score in descending order"
   ]
  },
  {
   "cell_type": "code",
   "execution_count": 10,
   "metadata": {},
   "outputs": [
    {
     "data": {
      "text/html": [
       "<div>\n",
       "<style scoped>\n",
       "    .dataframe tbody tr th:only-of-type {\n",
       "        vertical-align: middle;\n",
       "    }\n",
       "\n",
       "    .dataframe tbody tr th {\n",
       "        vertical-align: top;\n",
       "    }\n",
       "\n",
       "    .dataframe thead th {\n",
       "        text-align: right;\n",
       "    }\n",
       "</style>\n",
       "<table border=\"1\" class=\"dataframe\">\n",
       "  <thead>\n",
       "    <tr style=\"text-align: right;\">\n",
       "      <th></th>\n",
       "      <th>img</th>\n",
       "      <th>title</th>\n",
       "      <th>console</th>\n",
       "      <th>genre</th>\n",
       "      <th>publisher</th>\n",
       "      <th>developer</th>\n",
       "      <th>critic_score</th>\n",
       "      <th>total_sales</th>\n",
       "      <th>na_sales</th>\n",
       "      <th>jp_sales</th>\n",
       "      <th>pal_sales</th>\n",
       "      <th>other_sales</th>\n",
       "      <th>release_date</th>\n",
       "      <th>last_update</th>\n",
       "    </tr>\n",
       "  </thead>\n",
       "  <tbody>\n",
       "    <tr>\n",
       "      <th>2</th>\n",
       "      <td>/games/boxart/827563ccc.jpg</td>\n",
       "      <td>Grand Theft Auto: Vice City</td>\n",
       "      <td>PS2</td>\n",
       "      <td>Action</td>\n",
       "      <td>Rockstar Games</td>\n",
       "      <td>Rockstar North</td>\n",
       "      <td>9.6</td>\n",
       "      <td>16.15</td>\n",
       "      <td>8.41</td>\n",
       "      <td>0.47</td>\n",
       "      <td>5.49</td>\n",
       "      <td>1.78</td>\n",
       "      <td>2002-10-28</td>\n",
       "      <td>NaN</td>\n",
       "    </tr>\n",
       "    <tr>\n",
       "      <th>13</th>\n",
       "      <td>/games/boxart/3570928ccc.jpg</td>\n",
       "      <td>Grand Theft Auto III</td>\n",
       "      <td>PS2</td>\n",
       "      <td>Action</td>\n",
       "      <td>Rockstar Games</td>\n",
       "      <td>DMA Design</td>\n",
       "      <td>9.5</td>\n",
       "      <td>13.10</td>\n",
       "      <td>6.99</td>\n",
       "      <td>0.30</td>\n",
       "      <td>4.51</td>\n",
       "      <td>1.30</td>\n",
       "      <td>2001-10-23</td>\n",
       "      <td>NaN</td>\n",
       "    </tr>\n",
       "    <tr>\n",
       "      <th>75</th>\n",
       "      <td>/games/boxart/1473680ccc.jpg</td>\n",
       "      <td>Madden NFL 2004</td>\n",
       "      <td>PS2</td>\n",
       "      <td>Sports</td>\n",
       "      <td>EA Sports</td>\n",
       "      <td>EA Tiburon</td>\n",
       "      <td>9.5</td>\n",
       "      <td>5.23</td>\n",
       "      <td>4.26</td>\n",
       "      <td>0.01</td>\n",
       "      <td>0.26</td>\n",
       "      <td>0.71</td>\n",
       "      <td>2003-08-12</td>\n",
       "      <td>NaN</td>\n",
       "    </tr>\n",
       "    <tr>\n",
       "      <th>80</th>\n",
       "      <td>/games/boxart/full_2486879AmericaFrontccc.jpg</td>\n",
       "      <td>Guitar Hero II</td>\n",
       "      <td>PS2</td>\n",
       "      <td>Misc</td>\n",
       "      <td>RedOctane</td>\n",
       "      <td>Harmonix Music Systems</td>\n",
       "      <td>9.2</td>\n",
       "      <td>5.12</td>\n",
       "      <td>3.81</td>\n",
       "      <td>NaN</td>\n",
       "      <td>0.63</td>\n",
       "      <td>0.68</td>\n",
       "      <td>2006-11-07</td>\n",
       "      <td>NaN</td>\n",
       "    </tr>\n",
       "    <tr>\n",
       "      <th>94</th>\n",
       "      <td>/games/boxart/full_727567AmericaFrontccc.jpg</td>\n",
       "      <td>Madden NFL 06</td>\n",
       "      <td>PS2</td>\n",
       "      <td>Sports</td>\n",
       "      <td>EA Sports</td>\n",
       "      <td>EA Tiburon</td>\n",
       "      <td>9.1</td>\n",
       "      <td>4.91</td>\n",
       "      <td>3.98</td>\n",
       "      <td>0.01</td>\n",
       "      <td>0.26</td>\n",
       "      <td>0.66</td>\n",
       "      <td>2005-08-08</td>\n",
       "      <td>NaN</td>\n",
       "    </tr>\n",
       "  </tbody>\n",
       "</table>\n",
       "</div>"
      ],
      "text/plain": [
       "                                              img  \\\n",
       "2                     /games/boxart/827563ccc.jpg   \n",
       "13                   /games/boxart/3570928ccc.jpg   \n",
       "75                   /games/boxart/1473680ccc.jpg   \n",
       "80  /games/boxart/full_2486879AmericaFrontccc.jpg   \n",
       "94   /games/boxart/full_727567AmericaFrontccc.jpg   \n",
       "\n",
       "                          title console   genre       publisher  \\\n",
       "2   Grand Theft Auto: Vice City     PS2  Action  Rockstar Games   \n",
       "13         Grand Theft Auto III     PS2  Action  Rockstar Games   \n",
       "75              Madden NFL 2004     PS2  Sports       EA Sports   \n",
       "80               Guitar Hero II     PS2    Misc       RedOctane   \n",
       "94                Madden NFL 06     PS2  Sports       EA Sports   \n",
       "\n",
       "                 developer  critic_score  total_sales  na_sales  jp_sales  \\\n",
       "2           Rockstar North           9.6        16.15      8.41      0.47   \n",
       "13              DMA Design           9.5        13.10      6.99      0.30   \n",
       "75              EA Tiburon           9.5         5.23      4.26      0.01   \n",
       "80  Harmonix Music Systems           9.2         5.12      3.81       NaN   \n",
       "94              EA Tiburon           9.1         4.91      3.98      0.01   \n",
       "\n",
       "    pal_sales  other_sales release_date last_update  \n",
       "2        5.49         1.78   2002-10-28         NaN  \n",
       "13       4.51         1.30   2001-10-23         NaN  \n",
       "75       0.26         0.71   2003-08-12         NaN  \n",
       "80       0.63         0.68   2006-11-07         NaN  \n",
       "94       0.26         0.66   2005-08-08         NaN  "
      ]
     },
     "execution_count": 10,
     "metadata": {},
     "output_type": "execute_result"
    }
   ],
   "source": [
    "df[(df[\"critic_score\"]>9) & (df[\"console\"]==\"PS2\")].sort_values([\"total_sales\",\"critic_score\"],ascending=[False,False]).head(5)"
   ]
  },
  {
   "cell_type": "markdown",
   "metadata": {},
   "source": [
    "show top 10 rows with console=PS2 or XBOX360, and genre action, and sort them based on total_sales in descending order"
   ]
  },
  {
   "cell_type": "code",
   "execution_count": 18,
   "metadata": {},
   "outputs": [
    {
     "data": {
      "text/html": [
       "<div>\n",
       "<style scoped>\n",
       "    .dataframe tbody tr th:only-of-type {\n",
       "        vertical-align: middle;\n",
       "    }\n",
       "\n",
       "    .dataframe tbody tr th {\n",
       "        vertical-align: top;\n",
       "    }\n",
       "\n",
       "    .dataframe thead th {\n",
       "        text-align: right;\n",
       "    }\n",
       "</style>\n",
       "<table border=\"1\" class=\"dataframe\">\n",
       "  <thead>\n",
       "    <tr style=\"text-align: right;\">\n",
       "      <th></th>\n",
       "      <th>img</th>\n",
       "      <th>title</th>\n",
       "      <th>console</th>\n",
       "      <th>genre</th>\n",
       "      <th>publisher</th>\n",
       "      <th>developer</th>\n",
       "      <th>critic_score</th>\n",
       "      <th>total_sales</th>\n",
       "      <th>na_sales</th>\n",
       "      <th>jp_sales</th>\n",
       "      <th>pal_sales</th>\n",
       "      <th>other_sales</th>\n",
       "      <th>release_date</th>\n",
       "      <th>last_update</th>\n",
       "    </tr>\n",
       "  </thead>\n",
       "  <tbody>\n",
       "    <tr>\n",
       "      <th>2</th>\n",
       "      <td>/games/boxart/827563ccc.jpg</td>\n",
       "      <td>Grand Theft Auto: Vice City</td>\n",
       "      <td>PS2</td>\n",
       "      <td>Action</td>\n",
       "      <td>Rockstar Games</td>\n",
       "      <td>Rockstar North</td>\n",
       "      <td>9.6</td>\n",
       "      <td>16.15</td>\n",
       "      <td>8.41</td>\n",
       "      <td>0.47</td>\n",
       "      <td>5.49</td>\n",
       "      <td>1.78</td>\n",
       "      <td>2002-10-28</td>\n",
       "      <td>NaN</td>\n",
       "    </tr>\n",
       "    <tr>\n",
       "      <th>13</th>\n",
       "      <td>/games/boxart/3570928ccc.jpg</td>\n",
       "      <td>Grand Theft Auto III</td>\n",
       "      <td>PS2</td>\n",
       "      <td>Action</td>\n",
       "      <td>Rockstar Games</td>\n",
       "      <td>DMA Design</td>\n",
       "      <td>9.5</td>\n",
       "      <td>13.10</td>\n",
       "      <td>6.99</td>\n",
       "      <td>0.30</td>\n",
       "      <td>4.51</td>\n",
       "      <td>1.30</td>\n",
       "      <td>2001-10-23</td>\n",
       "      <td>NaN</td>\n",
       "    </tr>\n",
       "    <tr>\n",
       "      <th>105</th>\n",
       "      <td>/games/boxart/8307809ccc.jpg</td>\n",
       "      <td>The Lord of the Rings: The Two Towers</td>\n",
       "      <td>PS2</td>\n",
       "      <td>Action</td>\n",
       "      <td>Electronic Arts</td>\n",
       "      <td>Stormfront Studios</td>\n",
       "      <td>8.3</td>\n",
       "      <td>4.67</td>\n",
       "      <td>1.94</td>\n",
       "      <td>0.08</td>\n",
       "      <td>1.95</td>\n",
       "      <td>0.70</td>\n",
       "      <td>2002-10-21</td>\n",
       "      <td>NaN</td>\n",
       "    </tr>\n",
       "    <tr>\n",
       "      <th>115</th>\n",
       "      <td>/games/boxart/full_9484527AmericaFrontccc.jpg</td>\n",
       "      <td>Spider-Man: The Movie</td>\n",
       "      <td>PS2</td>\n",
       "      <td>Action</td>\n",
       "      <td>Activision</td>\n",
       "      <td>Treyarch</td>\n",
       "      <td>8.2</td>\n",
       "      <td>4.48</td>\n",
       "      <td>2.71</td>\n",
       "      <td>0.03</td>\n",
       "      <td>1.51</td>\n",
       "      <td>0.23</td>\n",
       "      <td>2002-04-15</td>\n",
       "      <td>NaN</td>\n",
       "    </tr>\n",
       "    <tr>\n",
       "      <th>187</th>\n",
       "      <td>/games/boxart/9254920ccc.jpg</td>\n",
       "      <td>The Getaway</td>\n",
       "      <td>PS2</td>\n",
       "      <td>Action</td>\n",
       "      <td>Sony Computer Entertainment</td>\n",
       "      <td>Team Soho</td>\n",
       "      <td>7.7</td>\n",
       "      <td>3.54</td>\n",
       "      <td>1.23</td>\n",
       "      <td>0.05</td>\n",
       "      <td>1.77</td>\n",
       "      <td>0.49</td>\n",
       "      <td>2003-01-19</td>\n",
       "      <td>NaN</td>\n",
       "    </tr>\n",
       "    <tr>\n",
       "      <th>189</th>\n",
       "      <td>/games/boxart/full_1027141AmericaFrontccc.jpg</td>\n",
       "      <td>Grand Theft Auto: Liberty City Stories</td>\n",
       "      <td>PS2</td>\n",
       "      <td>Action</td>\n",
       "      <td>Rockstar Games</td>\n",
       "      <td>Rockstar Leeds</td>\n",
       "      <td>8.3</td>\n",
       "      <td>3.54</td>\n",
       "      <td>1.56</td>\n",
       "      <td>0.07</td>\n",
       "      <td>1.40</td>\n",
       "      <td>0.50</td>\n",
       "      <td>2006-06-06</td>\n",
       "      <td>NaN</td>\n",
       "    </tr>\n",
       "    <tr>\n",
       "      <th>194</th>\n",
       "      <td>/games/boxart/full_6469736AmericaFrontccc.jpg</td>\n",
       "      <td>LEGO Star Wars: The Video Game</td>\n",
       "      <td>PS2</td>\n",
       "      <td>Action</td>\n",
       "      <td>Eidos Interactive</td>\n",
       "      <td>Traveller's Tales</td>\n",
       "      <td>7.9</td>\n",
       "      <td>3.53</td>\n",
       "      <td>1.98</td>\n",
       "      <td>0.01</td>\n",
       "      <td>1.14</td>\n",
       "      <td>0.41</td>\n",
       "      <td>2005-04-02</td>\n",
       "      <td>NaN</td>\n",
       "    </tr>\n",
       "    <tr>\n",
       "      <th>212</th>\n",
       "      <td>/games/boxart/4171363ccc.jpg</td>\n",
       "      <td>Spider-Man 2</td>\n",
       "      <td>PS2</td>\n",
       "      <td>Action</td>\n",
       "      <td>Activision</td>\n",
       "      <td>Treyarch</td>\n",
       "      <td>7.9</td>\n",
       "      <td>3.41</td>\n",
       "      <td>1.75</td>\n",
       "      <td>0.02</td>\n",
       "      <td>1.20</td>\n",
       "      <td>0.43</td>\n",
       "      <td>2004-06-28</td>\n",
       "      <td>NaN</td>\n",
       "    </tr>\n",
       "    <tr>\n",
       "      <th>222</th>\n",
       "      <td>/games/boxart/full_5479051AmericaFrontccc.jpg</td>\n",
       "      <td>Star Wars Episode III: Revenge of the Sith</td>\n",
       "      <td>PS2</td>\n",
       "      <td>Action</td>\n",
       "      <td>LucasArts</td>\n",
       "      <td>The Collective</td>\n",
       "      <td>NaN</td>\n",
       "      <td>3.32</td>\n",
       "      <td>1.47</td>\n",
       "      <td>0.03</td>\n",
       "      <td>1.39</td>\n",
       "      <td>0.43</td>\n",
       "      <td>2005-05-04</td>\n",
       "      <td>NaN</td>\n",
       "    </tr>\n",
       "    <tr>\n",
       "      <th>225</th>\n",
       "      <td>/games/boxart/3546885ccc.jpg</td>\n",
       "      <td>The Lord of the Rings: The Return of the King</td>\n",
       "      <td>PS2</td>\n",
       "      <td>Action</td>\n",
       "      <td>Electronic Arts</td>\n",
       "      <td>Hypnos Entertainment, Inc.</td>\n",
       "      <td>8.4</td>\n",
       "      <td>3.28</td>\n",
       "      <td>1.50</td>\n",
       "      <td>0.05</td>\n",
       "      <td>1.28</td>\n",
       "      <td>0.46</td>\n",
       "      <td>2003-11-05</td>\n",
       "      <td>NaN</td>\n",
       "    </tr>\n",
       "  </tbody>\n",
       "</table>\n",
       "</div>"
      ],
      "text/plain": [
       "                                               img  \\\n",
       "2                      /games/boxart/827563ccc.jpg   \n",
       "13                    /games/boxart/3570928ccc.jpg   \n",
       "105                   /games/boxart/8307809ccc.jpg   \n",
       "115  /games/boxart/full_9484527AmericaFrontccc.jpg   \n",
       "187                   /games/boxart/9254920ccc.jpg   \n",
       "189  /games/boxart/full_1027141AmericaFrontccc.jpg   \n",
       "194  /games/boxart/full_6469736AmericaFrontccc.jpg   \n",
       "212                   /games/boxart/4171363ccc.jpg   \n",
       "222  /games/boxart/full_5479051AmericaFrontccc.jpg   \n",
       "225                   /games/boxart/3546885ccc.jpg   \n",
       "\n",
       "                                             title console   genre  \\\n",
       "2                      Grand Theft Auto: Vice City     PS2  Action   \n",
       "13                            Grand Theft Auto III     PS2  Action   \n",
       "105          The Lord of the Rings: The Two Towers     PS2  Action   \n",
       "115                          Spider-Man: The Movie     PS2  Action   \n",
       "187                                    The Getaway     PS2  Action   \n",
       "189         Grand Theft Auto: Liberty City Stories     PS2  Action   \n",
       "194                 LEGO Star Wars: The Video Game     PS2  Action   \n",
       "212                                   Spider-Man 2     PS2  Action   \n",
       "222     Star Wars Episode III: Revenge of the Sith     PS2  Action   \n",
       "225  The Lord of the Rings: The Return of the King     PS2  Action   \n",
       "\n",
       "                       publisher                   developer  critic_score  \\\n",
       "2                 Rockstar Games              Rockstar North           9.6   \n",
       "13                Rockstar Games                  DMA Design           9.5   \n",
       "105              Electronic Arts          Stormfront Studios           8.3   \n",
       "115                   Activision                    Treyarch           8.2   \n",
       "187  Sony Computer Entertainment                   Team Soho           7.7   \n",
       "189               Rockstar Games              Rockstar Leeds           8.3   \n",
       "194            Eidos Interactive           Traveller's Tales           7.9   \n",
       "212                   Activision                    Treyarch           7.9   \n",
       "222                    LucasArts              The Collective           NaN   \n",
       "225              Electronic Arts  Hypnos Entertainment, Inc.           8.4   \n",
       "\n",
       "     total_sales  na_sales  jp_sales  pal_sales  other_sales release_date  \\\n",
       "2          16.15      8.41      0.47       5.49         1.78   2002-10-28   \n",
       "13         13.10      6.99      0.30       4.51         1.30   2001-10-23   \n",
       "105         4.67      1.94      0.08       1.95         0.70   2002-10-21   \n",
       "115         4.48      2.71      0.03       1.51         0.23   2002-04-15   \n",
       "187         3.54      1.23      0.05       1.77         0.49   2003-01-19   \n",
       "189         3.54      1.56      0.07       1.40         0.50   2006-06-06   \n",
       "194         3.53      1.98      0.01       1.14         0.41   2005-04-02   \n",
       "212         3.41      1.75      0.02       1.20         0.43   2004-06-28   \n",
       "222         3.32      1.47      0.03       1.39         0.43   2005-05-04   \n",
       "225         3.28      1.50      0.05       1.28         0.46   2003-11-05   \n",
       "\n",
       "    last_update  \n",
       "2           NaN  \n",
       "13          NaN  \n",
       "105         NaN  \n",
       "115         NaN  \n",
       "187         NaN  \n",
       "189         NaN  \n",
       "194         NaN  \n",
       "212         NaN  \n",
       "222         NaN  \n",
       "225         NaN  "
      ]
     },
     "execution_count": 18,
     "metadata": {},
     "output_type": "execute_result"
    }
   ],
   "source": [
    "df[(df[\"console\"].isin([\"PS2\",\"XBOX360\"]))&(df[\"genre\"]==\"Action\")].sort_values(\"total_sales\",ascending=False).head(10)"
   ]
  },
  {
   "cell_type": "markdown",
   "metadata": {},
   "source": [
    "add new column, concatenating the column developer with the column title"
   ]
  },
  {
   "cell_type": "code",
   "execution_count": 29,
   "metadata": {},
   "outputs": [
    {
     "data": {
      "text/html": [
       "<div>\n",
       "<style scoped>\n",
       "    .dataframe tbody tr th:only-of-type {\n",
       "        vertical-align: middle;\n",
       "    }\n",
       "\n",
       "    .dataframe tbody tr th {\n",
       "        vertical-align: top;\n",
       "    }\n",
       "\n",
       "    .dataframe thead th {\n",
       "        text-align: right;\n",
       "    }\n",
       "</style>\n",
       "<table border=\"1\" class=\"dataframe\">\n",
       "  <thead>\n",
       "    <tr style=\"text-align: right;\">\n",
       "      <th></th>\n",
       "      <th>img</th>\n",
       "      <th>title</th>\n",
       "      <th>console</th>\n",
       "      <th>genre</th>\n",
       "      <th>publisher</th>\n",
       "      <th>developer</th>\n",
       "      <th>critic_score</th>\n",
       "      <th>total_sales</th>\n",
       "      <th>na_sales</th>\n",
       "      <th>jp_sales</th>\n",
       "      <th>pal_sales</th>\n",
       "      <th>other_sales</th>\n",
       "      <th>release_date</th>\n",
       "      <th>last_update</th>\n",
       "      <th>mean_score</th>\n",
       "      <th>new title</th>\n",
       "    </tr>\n",
       "  </thead>\n",
       "  <tbody>\n",
       "    <tr>\n",
       "      <th>0</th>\n",
       "      <td>/games/boxart/full_6510540AmericaFrontccc.jpg</td>\n",
       "      <td>Grand Theft Auto V</td>\n",
       "      <td>PS3</td>\n",
       "      <td>Action</td>\n",
       "      <td>Rockstar Games</td>\n",
       "      <td>Rockstar North</td>\n",
       "      <td>9.4</td>\n",
       "      <td>20.32</td>\n",
       "      <td>6.37</td>\n",
       "      <td>0.99</td>\n",
       "      <td>9.85</td>\n",
       "      <td>3.12</td>\n",
       "      <td>2013-09-17</td>\n",
       "      <td>NaN</td>\n",
       "      <td>Rockstar North Grand Theft Auto V</td>\n",
       "      <td>Rockstar North - Grand Theft Auto V</td>\n",
       "    </tr>\n",
       "    <tr>\n",
       "      <th>1</th>\n",
       "      <td>/games/boxart/full_5563178AmericaFrontccc.jpg</td>\n",
       "      <td>Grand Theft Auto V</td>\n",
       "      <td>PS4</td>\n",
       "      <td>Action</td>\n",
       "      <td>Rockstar Games</td>\n",
       "      <td>Rockstar North</td>\n",
       "      <td>9.7</td>\n",
       "      <td>19.39</td>\n",
       "      <td>6.06</td>\n",
       "      <td>0.60</td>\n",
       "      <td>9.71</td>\n",
       "      <td>3.02</td>\n",
       "      <td>2014-11-18</td>\n",
       "      <td>2018-01-03</td>\n",
       "      <td>Rockstar North Grand Theft Auto V</td>\n",
       "      <td>Rockstar North - Grand Theft Auto V</td>\n",
       "    </tr>\n",
       "    <tr>\n",
       "      <th>2</th>\n",
       "      <td>/games/boxart/827563ccc.jpg</td>\n",
       "      <td>Grand Theft Auto: Vice City</td>\n",
       "      <td>PS2</td>\n",
       "      <td>Action</td>\n",
       "      <td>Rockstar Games</td>\n",
       "      <td>Rockstar North</td>\n",
       "      <td>9.6</td>\n",
       "      <td>16.15</td>\n",
       "      <td>8.41</td>\n",
       "      <td>0.47</td>\n",
       "      <td>5.49</td>\n",
       "      <td>1.78</td>\n",
       "      <td>2002-10-28</td>\n",
       "      <td>NaN</td>\n",
       "      <td>Rockstar North Grand Theft Auto: Vice City</td>\n",
       "      <td>Rockstar North - Grand Theft Auto: Vice City</td>\n",
       "    </tr>\n",
       "    <tr>\n",
       "      <th>3</th>\n",
       "      <td>/games/boxart/full_9218923AmericaFrontccc.jpg</td>\n",
       "      <td>Grand Theft Auto V</td>\n",
       "      <td>X360</td>\n",
       "      <td>Action</td>\n",
       "      <td>Rockstar Games</td>\n",
       "      <td>Rockstar North</td>\n",
       "      <td>NaN</td>\n",
       "      <td>15.86</td>\n",
       "      <td>9.06</td>\n",
       "      <td>0.06</td>\n",
       "      <td>5.33</td>\n",
       "      <td>1.42</td>\n",
       "      <td>2013-09-17</td>\n",
       "      <td>NaN</td>\n",
       "      <td>Rockstar North Grand Theft Auto V</td>\n",
       "      <td>Rockstar North - Grand Theft Auto V</td>\n",
       "    </tr>\n",
       "    <tr>\n",
       "      <th>4</th>\n",
       "      <td>/games/boxart/full_4990510AmericaFrontccc.jpg</td>\n",
       "      <td>Call of Duty: Black Ops 3</td>\n",
       "      <td>PS4</td>\n",
       "      <td>Shooter</td>\n",
       "      <td>Activision</td>\n",
       "      <td>Treyarch</td>\n",
       "      <td>8.1</td>\n",
       "      <td>15.09</td>\n",
       "      <td>6.18</td>\n",
       "      <td>0.41</td>\n",
       "      <td>6.05</td>\n",
       "      <td>2.44</td>\n",
       "      <td>2015-11-06</td>\n",
       "      <td>2018-01-14</td>\n",
       "      <td>Treyarch Call of Duty: Black Ops 3</td>\n",
       "      <td>Treyarch - Call of Duty: Black Ops 3</td>\n",
       "    </tr>\n",
       "    <tr>\n",
       "      <th>...</th>\n",
       "      <td>...</td>\n",
       "      <td>...</td>\n",
       "      <td>...</td>\n",
       "      <td>...</td>\n",
       "      <td>...</td>\n",
       "      <td>...</td>\n",
       "      <td>...</td>\n",
       "      <td>...</td>\n",
       "      <td>...</td>\n",
       "      <td>...</td>\n",
       "      <td>...</td>\n",
       "      <td>...</td>\n",
       "      <td>...</td>\n",
       "      <td>...</td>\n",
       "      <td>...</td>\n",
       "      <td>...</td>\n",
       "    </tr>\n",
       "    <tr>\n",
       "      <th>64011</th>\n",
       "      <td>/games/boxart/full_2779838AmericaFrontccc.jpg</td>\n",
       "      <td>XBlaze Lost: Memories</td>\n",
       "      <td>PC</td>\n",
       "      <td>Visual Novel</td>\n",
       "      <td>Aksys Games</td>\n",
       "      <td>Arc System Works</td>\n",
       "      <td>NaN</td>\n",
       "      <td>NaN</td>\n",
       "      <td>NaN</td>\n",
       "      <td>NaN</td>\n",
       "      <td>NaN</td>\n",
       "      <td>NaN</td>\n",
       "      <td>2016-08-11</td>\n",
       "      <td>2019-01-28</td>\n",
       "      <td>Arc System Works XBlaze Lost: Memories</td>\n",
       "      <td>Arc System Works - XBlaze Lost: Memories</td>\n",
       "    </tr>\n",
       "    <tr>\n",
       "      <th>64012</th>\n",
       "      <td>/games/boxart/full_8031506AmericaFrontccc.jpg</td>\n",
       "      <td>Yoru, Tomosu</td>\n",
       "      <td>PS4</td>\n",
       "      <td>Visual Novel</td>\n",
       "      <td>Nippon Ichi Software</td>\n",
       "      <td>Nippon Ichi Software</td>\n",
       "      <td>NaN</td>\n",
       "      <td>NaN</td>\n",
       "      <td>NaN</td>\n",
       "      <td>NaN</td>\n",
       "      <td>NaN</td>\n",
       "      <td>NaN</td>\n",
       "      <td>2020-07-30</td>\n",
       "      <td>2020-05-09</td>\n",
       "      <td>Nippon Ichi Software Yoru, Tomosu</td>\n",
       "      <td>Nippon Ichi Software - Yoru, Tomosu</td>\n",
       "    </tr>\n",
       "    <tr>\n",
       "      <th>64013</th>\n",
       "      <td>/games/boxart/full_6553045AmericaFrontccc.jpg</td>\n",
       "      <td>Yoru, Tomosu</td>\n",
       "      <td>NS</td>\n",
       "      <td>Visual Novel</td>\n",
       "      <td>Nippon Ichi Software</td>\n",
       "      <td>Nippon Ichi Software</td>\n",
       "      <td>NaN</td>\n",
       "      <td>NaN</td>\n",
       "      <td>NaN</td>\n",
       "      <td>NaN</td>\n",
       "      <td>NaN</td>\n",
       "      <td>NaN</td>\n",
       "      <td>2020-07-30</td>\n",
       "      <td>2020-05-09</td>\n",
       "      <td>Nippon Ichi Software Yoru, Tomosu</td>\n",
       "      <td>Nippon Ichi Software - Yoru, Tomosu</td>\n",
       "    </tr>\n",
       "    <tr>\n",
       "      <th>64014</th>\n",
       "      <td>/games/boxart/full_6012940JapanFrontccc.png</td>\n",
       "      <td>Yunohana SpRING! ~Mellow Times~</td>\n",
       "      <td>NS</td>\n",
       "      <td>Visual Novel</td>\n",
       "      <td>Idea Factory</td>\n",
       "      <td>Otomate</td>\n",
       "      <td>NaN</td>\n",
       "      <td>NaN</td>\n",
       "      <td>NaN</td>\n",
       "      <td>NaN</td>\n",
       "      <td>NaN</td>\n",
       "      <td>NaN</td>\n",
       "      <td>2019-02-28</td>\n",
       "      <td>2019-02-24</td>\n",
       "      <td>Otomate Yunohana SpRING! ~Mellow Times~</td>\n",
       "      <td>Otomate - Yunohana SpRING! ~Mellow Times~</td>\n",
       "    </tr>\n",
       "    <tr>\n",
       "      <th>64015</th>\n",
       "      <td>/games/boxart/default.jpg</td>\n",
       "      <td>Yurukill: The Calumniation Games</td>\n",
       "      <td>PS4</td>\n",
       "      <td>Visual Novel</td>\n",
       "      <td>Unknown</td>\n",
       "      <td>G.rev Ltd.</td>\n",
       "      <td>NaN</td>\n",
       "      <td>NaN</td>\n",
       "      <td>NaN</td>\n",
       "      <td>NaN</td>\n",
       "      <td>NaN</td>\n",
       "      <td>NaN</td>\n",
       "      <td>NaN</td>\n",
       "      <td>2023-09-29</td>\n",
       "      <td>G.rev Ltd. Yurukill: The Calumniation Games</td>\n",
       "      <td>G.rev Ltd. - Yurukill: The Calumniation Games</td>\n",
       "    </tr>\n",
       "  </tbody>\n",
       "</table>\n",
       "<p>64016 rows × 16 columns</p>\n",
       "</div>"
      ],
      "text/plain": [
       "                                                 img  \\\n",
       "0      /games/boxart/full_6510540AmericaFrontccc.jpg   \n",
       "1      /games/boxart/full_5563178AmericaFrontccc.jpg   \n",
       "2                        /games/boxart/827563ccc.jpg   \n",
       "3      /games/boxart/full_9218923AmericaFrontccc.jpg   \n",
       "4      /games/boxart/full_4990510AmericaFrontccc.jpg   \n",
       "...                                              ...   \n",
       "64011  /games/boxart/full_2779838AmericaFrontccc.jpg   \n",
       "64012  /games/boxart/full_8031506AmericaFrontccc.jpg   \n",
       "64013  /games/boxart/full_6553045AmericaFrontccc.jpg   \n",
       "64014    /games/boxart/full_6012940JapanFrontccc.png   \n",
       "64015                      /games/boxart/default.jpg   \n",
       "\n",
       "                                  title console         genre  \\\n",
       "0                    Grand Theft Auto V     PS3        Action   \n",
       "1                    Grand Theft Auto V     PS4        Action   \n",
       "2           Grand Theft Auto: Vice City     PS2        Action   \n",
       "3                    Grand Theft Auto V    X360        Action   \n",
       "4             Call of Duty: Black Ops 3     PS4       Shooter   \n",
       "...                                 ...     ...           ...   \n",
       "64011             XBlaze Lost: Memories      PC  Visual Novel   \n",
       "64012                      Yoru, Tomosu     PS4  Visual Novel   \n",
       "64013                      Yoru, Tomosu      NS  Visual Novel   \n",
       "64014   Yunohana SpRING! ~Mellow Times~      NS  Visual Novel   \n",
       "64015  Yurukill: The Calumniation Games     PS4  Visual Novel   \n",
       "\n",
       "                  publisher             developer  critic_score  total_sales  \\\n",
       "0            Rockstar Games        Rockstar North           9.4        20.32   \n",
       "1            Rockstar Games        Rockstar North           9.7        19.39   \n",
       "2            Rockstar Games        Rockstar North           9.6        16.15   \n",
       "3            Rockstar Games        Rockstar North           NaN        15.86   \n",
       "4                Activision              Treyarch           8.1        15.09   \n",
       "...                     ...                   ...           ...          ...   \n",
       "64011           Aksys Games      Arc System Works           NaN          NaN   \n",
       "64012  Nippon Ichi Software  Nippon Ichi Software           NaN          NaN   \n",
       "64013  Nippon Ichi Software  Nippon Ichi Software           NaN          NaN   \n",
       "64014          Idea Factory               Otomate           NaN          NaN   \n",
       "64015               Unknown            G.rev Ltd.           NaN          NaN   \n",
       "\n",
       "       na_sales  jp_sales  pal_sales  other_sales release_date last_update  \\\n",
       "0          6.37      0.99       9.85         3.12   2013-09-17         NaN   \n",
       "1          6.06      0.60       9.71         3.02   2014-11-18  2018-01-03   \n",
       "2          8.41      0.47       5.49         1.78   2002-10-28         NaN   \n",
       "3          9.06      0.06       5.33         1.42   2013-09-17         NaN   \n",
       "4          6.18      0.41       6.05         2.44   2015-11-06  2018-01-14   \n",
       "...         ...       ...        ...          ...          ...         ...   \n",
       "64011       NaN       NaN        NaN          NaN   2016-08-11  2019-01-28   \n",
       "64012       NaN       NaN        NaN          NaN   2020-07-30  2020-05-09   \n",
       "64013       NaN       NaN        NaN          NaN   2020-07-30  2020-05-09   \n",
       "64014       NaN       NaN        NaN          NaN   2019-02-28  2019-02-24   \n",
       "64015       NaN       NaN        NaN          NaN          NaN  2023-09-29   \n",
       "\n",
       "                                        mean_score  \\\n",
       "0                Rockstar North Grand Theft Auto V   \n",
       "1                Rockstar North Grand Theft Auto V   \n",
       "2       Rockstar North Grand Theft Auto: Vice City   \n",
       "3                Rockstar North Grand Theft Auto V   \n",
       "4               Treyarch Call of Duty: Black Ops 3   \n",
       "...                                            ...   \n",
       "64011       Arc System Works XBlaze Lost: Memories   \n",
       "64012            Nippon Ichi Software Yoru, Tomosu   \n",
       "64013            Nippon Ichi Software Yoru, Tomosu   \n",
       "64014      Otomate Yunohana SpRING! ~Mellow Times~   \n",
       "64015  G.rev Ltd. Yurukill: The Calumniation Games   \n",
       "\n",
       "                                           new title  \n",
       "0                Rockstar North - Grand Theft Auto V  \n",
       "1                Rockstar North - Grand Theft Auto V  \n",
       "2       Rockstar North - Grand Theft Auto: Vice City  \n",
       "3                Rockstar North - Grand Theft Auto V  \n",
       "4               Treyarch - Call of Duty: Black Ops 3  \n",
       "...                                              ...  \n",
       "64011       Arc System Works - XBlaze Lost: Memories  \n",
       "64012            Nippon Ichi Software - Yoru, Tomosu  \n",
       "64013            Nippon Ichi Software - Yoru, Tomosu  \n",
       "64014      Otomate - Yunohana SpRING! ~Mellow Times~  \n",
       "64015  G.rev Ltd. - Yurukill: The Calumniation Games  \n",
       "\n",
       "[64016 rows x 16 columns]"
      ]
     },
     "execution_count": 29,
     "metadata": {},
     "output_type": "execute_result"
    }
   ],
   "source": [
    "df[\"new title\"]=df[\"developer\"]+\" - \"+df[\"title\"]\n",
    "df"
   ]
  },
  {
   "cell_type": "markdown",
   "metadata": {},
   "source": [
    "### Step 2: Aggregating DataFrame\n"
   ]
  },
  {
   "cell_type": "markdown",
   "metadata": {},
   "source": [
    "pring min, max and mean critic score on screen"
   ]
  },
  {
   "cell_type": "code",
   "execution_count": 106,
   "metadata": {},
   "outputs": [
    {
     "name": "stdout",
     "output_type": "stream",
     "text": [
      "Min of critical score: 1.0\n",
      "Max of critical score: 10.0\n",
      "Mean of critical score: 7.220440251572328\n"
     ]
    }
   ],
   "source": [
    "print(\"Min of critical score: \"+str(df[\"critic_score\"].min()))\n",
    "print(\"Max of critical score: \"+str(df[\"critic_score\"].max()))\n",
    "print(\"Mean of critical score: \"+str(df[\"critic_score\"].mean()))"
   ]
  },
  {
   "cell_type": "markdown",
   "metadata": {},
   "source": [
    "show percentage of rows based on console, we see that PC constituites almost 20% of the database"
   ]
  },
  {
   "cell_type": "code",
   "execution_count": 19,
   "metadata": {},
   "outputs": [
    {
     "data": {
      "text/plain": [
       "console\n",
       "PC      0.197091\n",
       "PS2     0.055689\n",
       "DS      0.051362\n",
       "PS4     0.044958\n",
       "PS      0.042286\n",
       "NS      0.036506\n",
       "XBL     0.033117\n",
       "PSN     0.031305\n",
       "XOne    0.030664\n",
       "PS3     0.029758\n",
       "Name: proportion, dtype: float64"
      ]
     },
     "execution_count": 19,
     "metadata": {},
     "output_type": "execute_result"
    }
   ],
   "source": [
    "df[\"console\"].value_counts(sort=True,normalize=True).head(10)"
   ]
  },
  {
   "cell_type": "markdown",
   "metadata": {},
   "source": [
    "group by publisher and console, and calculate total sales. We see that Activision registered best sales for the X360 and PS3 consoles"
   ]
  },
  {
   "cell_type": "code",
   "execution_count": 20,
   "metadata": {},
   "outputs": [
    {
     "data": {
      "text/plain": [
       "publisher                    console\n",
       "Activision                   X360       149.47\n",
       "                             PS3        121.65\n",
       "EA Sports                    PS2        114.50\n",
       "Electronic Arts              PS2        108.52\n",
       "Sony Computer Entertainment  PS2         98.84\n",
       "Electronic Arts              X360        91.37\n",
       "                             PS3         86.87\n",
       "Sony Computer Entertainment  PS          86.73\n",
       "Activision                   PS4         84.29\n",
       "                             PS2         83.57\n",
       "Name: total_sales, dtype: float64"
      ]
     },
     "execution_count": 20,
     "metadata": {},
     "output_type": "execute_result"
    }
   ],
   "source": [
    "df.groupby([\"publisher\",\"console\"])[\"total_sales\"].sum().sort_values(ascending=False).head(10)"
   ]
  },
  {
   "cell_type": "markdown",
   "metadata": {},
   "source": [
    "group by consoles and calculate total sales. We see that the PS2 is the best selling console in terms of games sold"
   ]
  },
  {
   "cell_type": "code",
   "execution_count": 21,
   "metadata": {},
   "outputs": [
    {
     "data": {
      "text/plain": [
       "console\n",
       "PS2     1027.76\n",
       "X360     859.79\n",
       "PS3      839.70\n",
       "PS       546.25\n",
       "PS4      539.92\n",
       "Wii      459.44\n",
       "DS       458.17\n",
       "XOne     268.96\n",
       "PSP      245.29\n",
       "XB       232.05\n",
       "Name: total_sales, dtype: float64"
      ]
     },
     "execution_count": 21,
     "metadata": {},
     "output_type": "execute_result"
    }
   ],
   "source": [
    "df.groupby(\"console\")[\"total_sales\"].sum().sort_values(ascending=False).head(10)\n",
    "\n"
   ]
  },
  {
   "cell_type": "markdown",
   "metadata": {},
   "source": [
    "### Step 3: Plot"
   ]
  },
  {
   "cell_type": "code",
   "execution_count": 69,
   "metadata": {},
   "outputs": [
    {
     "data": {
      "image/png": "[encoded data removed]",
      "text/plain": [
       "<Figure size 640x480 with 1 Axes>"
      ]
     },
     "metadata": {},
     "output_type": "display_data"
    }
   ],
   "source": [
    "df[\"release_date\"]=pd.to_datetime(df[\"release_date\"], format='%Y-%m-%d')\n",
    "data=df.groupby(df.release_date.dt.year)[\"total_sales\"].sum()\n",
    "plt.plot(data.index,data.values)\n",
    "plt.xlabel(\"Year\")\n",
    "plt.ylabel(\"Total sales\")\n",
    "plt.title(\"Total sales Analysis\")\n",
    "plt.grid()\n",
    "plt.show()\n",
    "plt.show()"
   ]
  },
  {
   "cell_type": "code",
   "execution_count": 17,
   "metadata": {},
   "outputs": [
    {
     "data": {
      "image/png": "[encoded data removed]",
      "text/plain": [
       "<Figure size 640x480 with 1 Axes>"
      ]
     },
     "metadata": {},
     "output_type": "display_data"
    }
   ],
   "source": [
    "data=df[\"critic_score\"]\n",
    "\n",
    "plt.hist(data,bins=20)\n",
    "plt.grid()\n",
    "plt.xlabel(\"Critic score\")\n",
    "plt.ylabel(\"Number of games\")\n",
    "plt.title(\"Critic score analysis\")\n",
    " \n",
    "\n",
    "plt.show()"
   ]
  },
  {
   "cell_type": "code",
   "execution_count": 18,
   "metadata": {},
   "outputs": [
    {
     "data": {
      "image/png": "[encoded data removed]",
      "text/plain": [
       "<Figure size 640x480 with 1 Axes>"
      ]
     },
     "metadata": {},
     "output_type": "display_data"
    }
   ],
   "source": [
    "mean_sales=df.groupby(\"genre\")[\"total_sales\"].sum().sort_values()\n",
    "mean_sales.plot(kind=\"bar\")\n",
    "plt.xlabel(\"Genre\")\n",
    "plt.ylabel(\"Total sales\")\n",
    "plt.title(\"Genre analysis\")\n",
    "plt.grid()\n",
    "plt.show()"
   ]
  },
  {
   "cell_type": "code",
   "execution_count": 19,
   "metadata": {},
   "outputs": [
    {
     "data": {
      "image/png": "[encoded data removed]",
      "text/plain": [
       "<Figure size 640x480 with 1 Axes>"
      ]
     },
     "metadata": {},
     "output_type": "display_data"
    }
   ],
   "source": [
    "plt.scatter(df[\"critic_score\"],df[\"total_sales\"])\n",
    "plt.xlabel(\"Critic score\")\n",
    "plt.ylabel(\"Total sales\")\n",
    "plt.title(\"Relationship between critic score & total sales\")\n",
    "plt.show()"
   ]
  },
  {
   "cell_type": "code",
   "execution_count": 22,
   "metadata": {},
   "outputs": [
    {
     "data": {
      "image/png": "[encoded data removed]",
      "text/plain": [
       "<Figure size 640x480 with 1 Axes>"
      ]
     },
     "metadata": {},
     "output_type": "display_data"
    }
   ],
   "source": [
    "data=df.groupby(\"publisher\")[\"total_sales\"].sum().sort_values(ascending=False).head(10)\n",
    "\n",
    "plt.pie(data,labels=data.index,autopct='%1.1f%%')\n",
    "plt.show() \n"
   ]
  }
 ],
 "metadata": {
  "kernelspec": {
   "display_name": "Python 3",
   "language": "python",
   "name": "python3"
  },
  "language_info": {
   "codemirror_mode": {
    "name": "ipython",
    "version": 3
   },
   "file_extension": ".py",
   "mimetype": "text/x-python",
   "name": "python",
   "nbconvert_exporter": "python",
   "pygments_lexer": "ipython3",
   "version": "3.12.0"
  }
 },
 "nbformat": 4,
 "nbformat_minor": 2
}
